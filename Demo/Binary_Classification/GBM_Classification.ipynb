{
 "cells": [
  {
   "cell_type": "code",
   "execution_count": 1,
   "metadata": {},
   "outputs": [],
   "source": [
    "import os\n",
    "import datetime\n",
    "import numpy as np\n",
    "import pandas as pd\n",
    "\n",
    "import seaborn as sns\n",
    "sns.set()\n",
    "\n",
    "import matplotlib.pyplot as plt\n",
    "plt.style.use(\"ggplot\")\n",
    "plt.rcParams['axes.unicode_minus'] = False\n",
    "plt.rcParams['font.sans-serif'] = ['SimHei']\n",
    "%matplotlib inline\n",
    "%config InlineBackend.figure_format = 'svg'\n",
    "\n",
    "from IPython.core.interactiveshell import InteractiveShell\n",
    "InteractiveShell.ast_node_interactivity = \"all\""
   ]
  },
  {
   "cell_type": "code",
   "execution_count": 2,
   "metadata": {},
   "outputs": [],
   "source": [
    "from sklearn.model_selection import train_test_split\n",
    "from sklearn.metrics import roc_auc_score\n",
    "from sklearn.model_selection import GridSearchCV"
   ]
  },
  {
   "cell_type": "code",
   "execution_count": 3,
   "metadata": {},
   "outputs": [],
   "source": [
    "data = pd.read_csv('data/train_modified.csv')\n",
    "\n",
    "target = 'Disbursed'\n",
    "index = 'ID'\n",
    "data.set_index(index, inplace=True)\n",
    "\n",
    "x_train, x_test, y_train, y_test = train_test_split(data.drop(columns=[target]), data[target],\n",
    "                                                    test_size=0.3, random_state=0)"
   ]
  },
  {
   "cell_type": "code",
   "execution_count": 4,
   "metadata": {},
   "outputs": [],
   "source": [
    "from sklearn.ensemble import GradientBoostingClassifier"
   ]
  },
  {
   "cell_type": "code",
   "execution_count": 6,
   "metadata": {},
   "outputs": [
    {
     "data": {
      "text/plain": [
       "GradientBoostingClassifier(criterion='friedman_mse', init=None,\n",
       "              learning_rate=0.1, loss='deviance', max_depth=3,\n",
       "              max_features=None, max_leaf_nodes=None,\n",
       "              min_impurity_decrease=0.0, min_impurity_split=None,\n",
       "              min_samples_leaf=1, min_samples_split=2,\n",
       "              min_weight_fraction_leaf=0.0, n_estimators=100,\n",
       "              n_iter_no_change=None, presort='auto', random_state=None,\n",
       "              subsample=1.0, tol=0.0001, validation_fraction=0.1,\n",
       "              verbose=0, warm_start=False)"
      ]
     },
     "execution_count": 6,
     "metadata": {},
     "output_type": "execute_result"
    },
    {
     "data": {
      "text/plain": [
       "0.8296610665879788"
      ]
     },
     "execution_count": 6,
     "metadata": {},
     "output_type": "execute_result"
    }
   ],
   "source": [
    "gbm = GradientBoostingClassifier()\n",
    "gbm.fit(x_train, y_train)\n",
    "roc_auc_score(y_test, gbm.predict_proba(x_test)[:, 1])"
   ]
  },
  {
   "cell_type": "code",
   "execution_count": 9,
   "metadata": {},
   "outputs": [
    {
     "data": {
      "text/plain": [
       "GridSearchCV(cv=5, error_score='raise-deprecating',\n",
       "       estimator=GradientBoostingClassifier(criterion='friedman_mse', init=None,\n",
       "              learning_rate=0.1, loss='deviance', max_depth=8,\n",
       "              max_features='sqrt', max_leaf_nodes=20,\n",
       "              min_impurity_decrease=0.0, min_impurity_split=None,\n",
       "              min_samples_leaf=8, min_sampl...      subsample=0.6, tol=0.0001, validation_fraction=0.1,\n",
       "              verbose=0, warm_start=False),\n",
       "       fit_params=None, iid='warn', n_jobs=-1,\n",
       "       param_grid={'n_estimators': range(10, 300, 10), 'learning_rate': [0.0001, 0.0005, 0.001, 0.0015, 0.002, 0.005, 0.01, 0.05, 0.1, 0.2, 0.3, 0.5]},\n",
       "       pre_dispatch='2*n_jobs', refit=True, return_train_score='warn',\n",
       "       scoring='roc_auc', verbose=0)"
      ]
     },
     "execution_count": 9,
     "metadata": {},
     "output_type": "execute_result"
    },
    {
     "data": {
      "text/plain": [
       "{'learning_rate': 0.05, 'n_estimators': 190}"
      ]
     },
     "execution_count": 9,
     "metadata": {},
     "output_type": "execute_result"
    }
   ],
   "source": [
    "params = {'n_estimators': range(10, 300, 10),\n",
    "         'learning_rate': [0.0001, 0.0005, 0.001, 0.0015, 0.002, 0.005, 0.01, 0.05, 0.1, 0.2, 0.3, 0.5]}\n",
    "\n",
    "gsearch = GridSearchCV(estimator=GradientBoostingClassifier(subsample=0.6,\n",
    "                                                            max_features='sqrt',\n",
    "                                                            max_depth=8,\n",
    "                                                            min_samples_split=20,\n",
    "                                                            min_samples_leaf=8,\n",
    "                                                            max_leaf_nodes=20,\n",
    "                                                            min_weight_fraction_leaf=0,\n",
    "                                                            random_state=1),\n",
    "                       param_grid=params,\n",
    "                       scoring='roc_auc',\n",
    "                       cv=5,\n",
    "                       n_jobs=-1)\n",
    "gsearch.fit(x_train, y_train)\n",
    "gsearch.best_params_"
   ]
  },
  {
   "cell_type": "code",
   "execution_count": 16,
   "metadata": {},
   "outputs": [
    {
     "data": {
      "text/plain": [
       "GridSearchCV(cv=5, error_score='raise-deprecating',\n",
       "       estimator=GradientBoostingClassifier(criterion='friedman_mse', init=None,\n",
       "              learning_rate=0.05, loss='deviance', max_depth=8,\n",
       "              max_features='sqrt', max_leaf_nodes=20,\n",
       "              min_impurity_decrease=0.0, min_impurity_split=None,\n",
       "              min_samples_leaf=1, min_samp...      subsample=0.6, tol=0.0001, validation_fraction=0.1,\n",
       "              verbose=0, warm_start=False),\n",
       "       fit_params=None, iid='warn', n_jobs=-1,\n",
       "       param_grid={'min_samples_split': range(2, 20, 2), 'min_samples_leaf': range(1, 10)},\n",
       "       pre_dispatch='2*n_jobs', refit=True, return_train_score='warn',\n",
       "       scoring='roc_auc', verbose=0)"
      ]
     },
     "execution_count": 16,
     "metadata": {},
     "output_type": "execute_result"
    },
    {
     "data": {
      "text/plain": [
       "{'min_samples_leaf': 5, 'min_samples_split': 16}"
      ]
     },
     "execution_count": 16,
     "metadata": {},
     "output_type": "execute_result"
    }
   ],
   "source": [
    "params = {'min_samples_split': range(2, 20, 2),\n",
    "         'min_samples_leaf': range(1, 10, 1)}\n",
    "\n",
    "gsearch = GridSearchCV(estimator=GradientBoostingClassifier(n_estimators=190,\n",
    "                                                            learning_rate=0.05,\n",
    "                                                            subsample=0.6,\n",
    "                                                            max_features='sqrt',\n",
    "                                                            max_depth=8,\n",
    "                                                            max_leaf_nodes=20,\n",
    "                                                            min_weight_fraction_leaf=0,\n",
    "                                                            random_state=1),\n",
    "                       param_grid=params,\n",
    "                       scoring='roc_auc',\n",
    "                       cv=5,\n",
    "                       n_jobs=-1)\n",
    "gsearch.fit(x_train, y_train)\n",
    "gsearch.best_params_"
   ]
  },
  {
   "cell_type": "code",
   "execution_count": 17,
   "metadata": {},
   "outputs": [
    {
     "data": {
      "text/plain": [
       "GridSearchCV(cv=5, error_score='raise-deprecating',\n",
       "       estimator=GradientBoostingClassifier(criterion='friedman_mse', init=None,\n",
       "              learning_rate=0.05, loss='deviance', max_depth=3,\n",
       "              max_features='sqrt', max_leaf_nodes=20,\n",
       "              min_impurity_decrease=0.0, min_impurity_split=None,\n",
       "              min_samples_leaf=5, min_samp...      subsample=0.6, tol=0.0001, validation_fraction=0.1,\n",
       "              verbose=0, warm_start=False),\n",
       "       fit_params=None, iid='warn', n_jobs=-1,\n",
       "       param_grid={'max_depth': range(2, 100, 2)}, pre_dispatch='2*n_jobs',\n",
       "       refit=True, return_train_score='warn', scoring='roc_auc', verbose=0)"
      ]
     },
     "execution_count": 17,
     "metadata": {},
     "output_type": "execute_result"
    },
    {
     "data": {
      "text/plain": [
       "{'max_depth': 16}"
      ]
     },
     "execution_count": 17,
     "metadata": {},
     "output_type": "execute_result"
    }
   ],
   "source": [
    "params = {'max_depth': range(2, 100, 2)}\n",
    "\n",
    "gsearch = GridSearchCV(estimator=GradientBoostingClassifier(n_estimators=190,\n",
    "                                                            learning_rate=0.05,\n",
    "                                                            subsample=0.6,\n",
    "                                                            max_features='sqrt',\n",
    "                                                            min_samples_split=16,\n",
    "                                                            min_samples_leaf=5,\n",
    "                                                            max_leaf_nodes=20,\n",
    "                                                            min_weight_fraction_leaf=0,\n",
    "                                                            random_state=1),\n",
    "                       param_grid=params,\n",
    "                       scoring='roc_auc',\n",
    "                       cv=5,\n",
    "                       n_jobs=-1)\n",
    "gsearch.fit(x_train, y_train)\n",
    "gsearch.best_params_"
   ]
  },
  {
   "cell_type": "code",
   "execution_count": 22,
   "metadata": {},
   "outputs": [
    {
     "data": {
      "text/plain": [
       "GridSearchCV(cv=5, error_score='raise-deprecating',\n",
       "       estimator=GradientBoostingClassifier(criterion='friedman_mse', init=None,\n",
       "              learning_rate=0.05, loss='deviance', max_depth=16,\n",
       "              max_features=None, max_leaf_nodes=20,\n",
       "              min_impurity_decrease=0.0, min_impurity_split=None,\n",
       "              min_samples_leaf=5, min_sampl...      subsample=0.6, tol=0.0001, validation_fraction=0.1,\n",
       "              verbose=0, warm_start=False),\n",
       "       fit_params=None, iid='warn', n_jobs=-1,\n",
       "       param_grid={'max_features': range(12, 20)}, pre_dispatch='2*n_jobs',\n",
       "       refit=True, return_train_score='warn', scoring='roc_auc', verbose=0)"
      ]
     },
     "execution_count": 22,
     "metadata": {},
     "output_type": "execute_result"
    },
    {
     "data": {
      "text/plain": [
       "{'max_features': 16}"
      ]
     },
     "execution_count": 22,
     "metadata": {},
     "output_type": "execute_result"
    }
   ],
   "source": [
    "params = {'max_features': range(12, 20, 1)}\n",
    "\n",
    "gsearch = GridSearchCV(estimator=GradientBoostingClassifier(n_estimators=190,\n",
    "                                                            learning_rate=0.05,\n",
    "                                                            subsample=0.6,\n",
    "                                                            min_samples_split=16,\n",
    "                                                            min_samples_leaf=5,\n",
    "                                                            max_depth=16,\n",
    "                                                            max_leaf_nodes=20,\n",
    "                                                            min_weight_fraction_leaf=0,\n",
    "                                                            random_state=1),\n",
    "                       param_grid=params,\n",
    "                       scoring='roc_auc',\n",
    "                       cv=5,\n",
    "                       n_jobs=-1)\n",
    "gsearch.fit(x_train, y_train)\n",
    "gsearch.best_params_"
   ]
  },
  {
   "cell_type": "code",
   "execution_count": 23,
   "metadata": {},
   "outputs": [
    {
     "data": {
      "text/plain": [
       "GridSearchCV(cv=5, error_score='raise-deprecating',\n",
       "       estimator=GradientBoostingClassifier(criterion='friedman_mse', init=None,\n",
       "              learning_rate=0.05, loss='deviance', max_depth=16,\n",
       "              max_features=16, max_leaf_nodes=20,\n",
       "              min_impurity_decrease=0.0, min_impurity_split=None,\n",
       "              min_samples_leaf=5, min_samples...      subsample=1.0, tol=0.0001, validation_fraction=0.1,\n",
       "              verbose=0, warm_start=False),\n",
       "       fit_params=None, iid='warn', n_jobs=-1,\n",
       "       param_grid={'subsample': [0.5, 0.6, 0.7, 0.8, 0.9, 1.0]},\n",
       "       pre_dispatch='2*n_jobs', refit=True, return_train_score='warn',\n",
       "       scoring='roc_auc', verbose=0)"
      ]
     },
     "execution_count": 23,
     "metadata": {},
     "output_type": "execute_result"
    },
    {
     "data": {
      "text/plain": [
       "{'subsample': 0.7}"
      ]
     },
     "execution_count": 23,
     "metadata": {},
     "output_type": "execute_result"
    }
   ],
   "source": [
    "params = {'subsample': [i/10 for i in range(5, 11, 1)]}\n",
    "\n",
    "gsearch = GridSearchCV(estimator=GradientBoostingClassifier(n_estimators=190,\n",
    "                                                            learning_rate=0.05,\n",
    "                                                            max_features=16,\n",
    "                                                            min_samples_split=16,\n",
    "                                                            min_samples_leaf=5,\n",
    "                                                            max_depth=16,\n",
    "                                                            max_leaf_nodes=20,\n",
    "                                                            min_weight_fraction_leaf=0,\n",
    "                                                            random_state=1),\n",
    "                       param_grid=params,\n",
    "                       scoring='roc_auc',\n",
    "                       cv=5,\n",
    "                       n_jobs=-1)\n",
    "gsearch.fit(x_train, y_train)\n",
    "gsearch.best_params_"
   ]
  },
  {
   "cell_type": "code",
   "execution_count": 24,
   "metadata": {},
   "outputs": [
    {
     "data": {
      "text/plain": [
       "GridSearchCV(cv=5, error_score='raise-deprecating',\n",
       "       estimator=GradientBoostingClassifier(criterion='friedman_mse', init=None,\n",
       "              learning_rate=0.1, loss='deviance', max_depth=16,\n",
       "              max_features=16, max_leaf_nodes=20,\n",
       "              min_impurity_decrease=0.0, min_impurity_split=None,\n",
       "              min_samples_leaf=5, min_samples_...      subsample=0.7, tol=0.0001, validation_fraction=0.1,\n",
       "              verbose=0, warm_start=False),\n",
       "       fit_params=None, iid='warn', n_jobs=-1,\n",
       "       param_grid={'n_estimators': range(150, 400, 10), 'learning_rate': [0.0001, 0.0005, 0.001, 0.0015, 0.002, 0.005, 0.01, 0.05, 0.1, 0.2, 0.3, 0.5]},\n",
       "       pre_dispatch='2*n_jobs', refit=True, return_train_score='warn',\n",
       "       scoring='roc_auc', verbose=0)"
      ]
     },
     "execution_count": 24,
     "metadata": {},
     "output_type": "execute_result"
    },
    {
     "data": {
      "text/plain": [
       "{'learning_rate': 0.05, 'n_estimators': 220}"
      ]
     },
     "execution_count": 24,
     "metadata": {},
     "output_type": "execute_result"
    }
   ],
   "source": [
    "params = {'n_estimators': range(150, 400, 10),\n",
    "         'learning_rate': [0.0001, 0.0005, 0.001, 0.0015, 0.002, 0.005, 0.01, 0.05, 0.1, 0.2, 0.3, 0.5]}\n",
    "\n",
    "gsearch = GridSearchCV(estimator=GradientBoostingClassifier(subsample=0.7,\n",
    "                                                            max_features=16,\n",
    "                                                            min_samples_split=16,\n",
    "                                                            min_samples_leaf=5,\n",
    "                                                            max_depth=16,\n",
    "                                                            max_leaf_nodes=20,\n",
    "                                                            min_weight_fraction_leaf=0,\n",
    "                                                            random_state=1),\n",
    "                       param_grid=params,\n",
    "                       scoring='roc_auc',\n",
    "                       cv=5,\n",
    "                       n_jobs=-1)\n",
    "gsearch.fit(x_train, y_train)\n",
    "gsearch.best_params_"
   ]
  },
  {
   "cell_type": "code",
   "execution_count": 25,
   "metadata": {},
   "outputs": [
    {
     "data": {
      "text/plain": [
       "GradientBoostingClassifier(criterion='friedman_mse', init=None,\n",
       "              learning_rate=0.05, loss='deviance', max_depth=16,\n",
       "              max_features=16, max_leaf_nodes=20,\n",
       "              min_impurity_decrease=0.0, min_impurity_split=None,\n",
       "              min_samples_leaf=5, min_samples_split=16,\n",
       "              min_weight_fraction_leaf=0, n_estimators=220,\n",
       "              n_iter_no_change=None, presort='auto', random_state=1,\n",
       "              subsample=0.7, tol=0.0001, validation_fraction=0.1,\n",
       "              verbose=0, warm_start=False)"
      ]
     },
     "execution_count": 25,
     "metadata": {},
     "output_type": "execute_result"
    },
    {
     "data": {
      "text/plain": [
       "0.8350659829504987"
      ]
     },
     "execution_count": 25,
     "metadata": {},
     "output_type": "execute_result"
    }
   ],
   "source": [
    "gbm_best = GradientBoostingClassifier(n_estimators=220, \n",
    "                                      learning_rate=0.05,\n",
    "                                      subsample=0.7,\n",
    "                                      max_features=16,\n",
    "                                      min_samples_split=16,\n",
    "                                      min_samples_leaf=5,\n",
    "                                      max_depth=16,\n",
    "                                      max_leaf_nodes=20,\n",
    "                                      min_weight_fraction_leaf=0,\n",
    "                                      random_state=1)\n",
    "gbm_best.fit(x_train, y_train)\n",
    "roc_auc_score(y_test, gbm_best.predict_proba(x_test)[:, 1])"
   ]
  }
 ],
 "metadata": {
  "kernelspec": {
   "display_name": "Python 3",
   "language": "python",
   "name": "python3"
  },
  "language_info": {
   "codemirror_mode": {
    "name": "ipython",
    "version": 3
   },
   "file_extension": ".py",
   "mimetype": "text/x-python",
   "name": "python",
   "nbconvert_exporter": "python",
   "pygments_lexer": "ipython3",
   "version": "3.7.3"
  }
 },
 "nbformat": 4,
 "nbformat_minor": 2
}
